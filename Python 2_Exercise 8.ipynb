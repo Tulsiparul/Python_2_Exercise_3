{
 "cells": [
  {
   "cell_type": "code",
   "execution_count": 1,
   "id": "c92f1e05",
   "metadata": {},
   "outputs": [
    {
     "name": "stdout",
     "output_type": "stream",
     "text": [
      "Eric\n",
      "Hello Eric, would you like to learn some Python today?\n"
     ]
    }
   ],
   "source": [
    "## 1st program\n",
    "\n",
    "\"\"\"Print a simple a message\n",
    "Name = Tulsi Pandey\n",
    "Date = 2021-09-12\"\"\"\n",
    "\n",
    "Name = 'Eric'\n",
    "print(Name)\n",
    "Message = \"Hello Eric, would you like to learn some Python today?\"\n",
    "print(Message)\n"
   ]
  },
  {
   "cell_type": "code",
   "execution_count": 2,
   "id": "7309759f",
   "metadata": {},
   "outputs": [
    {
     "name": "stdout",
     "output_type": "stream",
     "text": [
      "My favourite number is 3125\n"
     ]
    }
   ],
   "source": [
    "## 2nd Program\n",
    "\"\"\"Print a favourite number\n",
    "Name = Tulsi Pandey \n",
    "Date = 2021-09-13\"\"\"\n",
    "\n",
    "number = '3125'\n",
    "print(\"My favourite number is \"+ str(number) )"
   ]
  },
  {
   "cell_type": "code",
   "execution_count": 3,
   "id": "b5c7d6f1",
   "metadata": {},
   "outputs": [
    {
     "name": "stdout",
     "output_type": "stream",
     "text": [
      "Writting a simple program with favourite number\n"
     ]
    }
   ],
   "source": [
    "print(\"Writting a simple program with favourite number\")"
   ]
  },
  {
   "cell_type": "code",
   "execution_count": null,
   "id": "72ec3e32",
   "metadata": {},
   "outputs": [],
   "source": []
  }
 ],
 "metadata": {
  "kernelspec": {
   "display_name": "Python 3",
   "language": "python",
   "name": "python3"
  },
  "language_info": {
   "codemirror_mode": {
    "name": "ipython",
    "version": 3
   },
   "file_extension": ".py",
   "mimetype": "text/x-python",
   "name": "python",
   "nbconvert_exporter": "python",
   "pygments_lexer": "ipython3",
   "version": "3.8.8"
  }
 },
 "nbformat": 4,
 "nbformat_minor": 5
}
