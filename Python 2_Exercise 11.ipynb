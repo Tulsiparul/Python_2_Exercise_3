{
 "cells": [
  {
   "cell_type": "code",
   "execution_count": 3,
   "id": "0b755354",
   "metadata": {},
   "outputs": [],
   "source": [
    "transportations = ['Cycle','Scooty','Car',\"Tractor\",\"Chopper\",'Airoplane']"
   ]
  },
  {
   "cell_type": "code",
   "execution_count": 8,
   "id": "bace8839",
   "metadata": {},
   "outputs": [
    {
     "name": "stdout",
     "output_type": "stream",
     "text": [
      " I have a small and cute Cycle\n"
     ]
    }
   ],
   "source": [
    "print(\" I have a small and cute\",transportations[0])"
   ]
  },
  {
   "cell_type": "code",
   "execution_count": 9,
   "id": "bcd771d4",
   "metadata": {},
   "outputs": [
    {
     "name": "stdout",
     "output_type": "stream",
     "text": [
      " I have a pink color Scooty\n"
     ]
    }
   ],
   "source": [
    "print(\" I have a pink color\",transportations[1])"
   ]
  },
  {
   "cell_type": "code",
   "execution_count": 10,
   "id": "ba672095",
   "metadata": {},
   "outputs": [
    {
     "name": "stdout",
     "output_type": "stream",
     "text": [
      " I am the owner of  Car\n"
     ]
    }
   ],
   "source": [
    "print(\" I am the owner of \",transportations[2])"
   ]
  },
  {
   "cell_type": "code",
   "execution_count": 11,
   "id": "70a6b518",
   "metadata": {},
   "outputs": [
    {
     "name": "stdout",
     "output_type": "stream",
     "text": [
      " I am using my Tractor For Agriculture\n"
     ]
    }
   ],
   "source": [
    "print(\" I am using my\",transportations[3],'For Agriculture')"
   ]
  },
  {
   "cell_type": "code",
   "execution_count": 12,
   "id": "9aed9b22",
   "metadata": {},
   "outputs": [
    {
     "name": "stdout",
     "output_type": "stream",
     "text": [
      " I want fly in Chopper\n"
     ]
    }
   ],
   "source": [
    "print(\" I want fly in\",transportations[4])"
   ]
  },
  {
   "cell_type": "code",
   "execution_count": 13,
   "id": "f55e53e0",
   "metadata": {},
   "outputs": [
    {
     "name": "stdout",
     "output_type": "stream",
     "text": [
      "I want be a Pilot so that I can use Airoplane\n"
     ]
    }
   ],
   "source": [
    "print(\"I want be a Pilot so that I can use\",transportations[5])"
   ]
  },
  {
   "cell_type": "code",
   "execution_count": null,
   "id": "24591dc7",
   "metadata": {},
   "outputs": [],
   "source": []
  }
 ],
 "metadata": {
  "kernelspec": {
   "display_name": "Python 3",
   "language": "python",
   "name": "python3"
  },
  "language_info": {
   "codemirror_mode": {
    "name": "ipython",
    "version": 3
   },
   "file_extension": ".py",
   "mimetype": "text/x-python",
   "name": "python",
   "nbconvert_exporter": "python",
   "pygments_lexer": "ipython3",
   "version": "3.8.8"
  }
 },
 "nbformat": 4,
 "nbformat_minor": 5
}
