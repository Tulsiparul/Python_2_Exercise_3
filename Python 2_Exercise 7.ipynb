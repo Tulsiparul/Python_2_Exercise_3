{
 "cells": [
  {
   "cell_type": "code",
   "execution_count": 10,
   "id": "3f57b451",
   "metadata": {},
   "outputs": [
    {
     "name": "stdout",
     "output_type": "stream",
     "text": [
      "My favourite number is 3125\n"
     ]
    }
   ],
   "source": [
    "number = '3125'\n",
    "print(\"My favourite number is \"+ str(number) )\n"
   ]
  },
  {
   "cell_type": "code",
   "execution_count": null,
   "id": "ccd39bed",
   "metadata": {},
   "outputs": [],
   "source": []
  }
 ],
 "metadata": {
  "kernelspec": {
   "display_name": "Python 3",
   "language": "python",
   "name": "python3"
  },
  "language_info": {
   "codemirror_mode": {
    "name": "ipython",
    "version": 3
   },
   "file_extension": ".py",
   "mimetype": "text/x-python",
   "name": "python",
   "nbconvert_exporter": "python",
   "pygments_lexer": "ipython3",
   "version": "3.8.8"
  }
 },
 "nbformat": 4,
 "nbformat_minor": 5
}
