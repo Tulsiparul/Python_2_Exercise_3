{
 "cells": [
  {
   "cell_type": "code",
   "execution_count": 1,
   "id": "625c3b8c",
   "metadata": {},
   "outputs": [],
   "source": [
    "names = ['Tulsi', 'Nitish','Supriya','Priya','Pihu','kawitha','Shrunkhala','Deepthi','Neha',\"Ranjna\"]"
   ]
  },
  {
   "cell_type": "code",
   "execution_count": 11,
   "id": "b54757e4",
   "metadata": {},
   "outputs": [
    {
     "name": "stdout",
     "output_type": "stream",
     "text": [
      "Tulsi is a Great Person\n"
     ]
    }
   ],
   "source": [
    "print(names[0],\"is a Great Person\")\n"
   ]
  },
  {
   "cell_type": "code",
   "execution_count": 12,
   "id": "470a19db",
   "metadata": {},
   "outputs": [
    {
     "name": "stdout",
     "output_type": "stream",
     "text": [
      "Nitish is a Great Person\n"
     ]
    }
   ],
   "source": [
    "print(names[1],\"is a Great Person\")"
   ]
  },
  {
   "cell_type": "code",
   "execution_count": 13,
   "id": "abcc0048",
   "metadata": {},
   "outputs": [
    {
     "name": "stdout",
     "output_type": "stream",
     "text": [
      "Supriya is a Great Person\n"
     ]
    }
   ],
   "source": [
    "print(names[2],\"is a Great Person\")"
   ]
  },
  {
   "cell_type": "code",
   "execution_count": 14,
   "id": "a62a6360",
   "metadata": {},
   "outputs": [
    {
     "name": "stdout",
     "output_type": "stream",
     "text": [
      "Priya is a Great Person\n"
     ]
    }
   ],
   "source": [
    "print(names[3],\"is a Great Person\")"
   ]
  },
  {
   "cell_type": "code",
   "execution_count": 15,
   "id": "7e8e815f",
   "metadata": {},
   "outputs": [
    {
     "name": "stdout",
     "output_type": "stream",
     "text": [
      "Pihu is a Great Person\n"
     ]
    }
   ],
   "source": [
    "print(names[4],\"is a Great Person\")"
   ]
  },
  {
   "cell_type": "code",
   "execution_count": 16,
   "id": "8cefcbfd",
   "metadata": {},
   "outputs": [
    {
     "name": "stdout",
     "output_type": "stream",
     "text": [
      "kawitha is a Great Person\n"
     ]
    }
   ],
   "source": [
    "print(names[5],\"is a Great Person\")"
   ]
  },
  {
   "cell_type": "code",
   "execution_count": null,
   "id": "a17dfc1b",
   "metadata": {},
   "outputs": [],
   "source": []
  }
 ],
 "metadata": {
  "kernelspec": {
   "display_name": "Python 3",
   "language": "python",
   "name": "python3"
  },
  "language_info": {
   "codemirror_mode": {
    "name": "ipython",
    "version": 3
   },
   "file_extension": ".py",
   "mimetype": "text/x-python",
   "name": "python",
   "nbconvert_exporter": "python",
   "pygments_lexer": "ipython3",
   "version": "3.8.8"
  }
 },
 "nbformat": 4,
 "nbformat_minor": 5
}
